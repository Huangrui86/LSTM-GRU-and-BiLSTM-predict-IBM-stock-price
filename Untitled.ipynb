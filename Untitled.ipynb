{
 "cells": [
  {
   "cell_type": "code",
   "execution_count": 1,
   "metadata": {
    "scrolled": true
   },
   "outputs": [
    {
     "name": "stderr",
     "output_type": "stream",
     "text": [
      "Using TensorFlow backend.\n"
     ]
    }
   ],
   "source": [
    "import numpy as np \n",
    "import matplotlib.pyplot as plt\n",
    "plt.style.use('fivethirtyeight')\n",
    "import pandas as pd\n",
    "from sklearn.preprocessing import MinMaxScaler\n",
    "from keras.models import Sequential\n",
    "from keras.layers import Dense, LSTM, Dropout, GRU, Bidirectional\n",
    "import math\n",
    "from sklearn.metrics import mean_squared_error"
   ]
  },
  {
   "cell_type": "code",
   "execution_count": 151,
   "metadata": {},
   "outputs": [
    {
     "data": {
      "text/html": [
       "<div>\n",
       "<style scoped>\n",
       "    .dataframe tbody tr th:only-of-type {\n",
       "        vertical-align: middle;\n",
       "    }\n",
       "\n",
       "    .dataframe tbody tr th {\n",
       "        vertical-align: top;\n",
       "    }\n",
       "\n",
       "    .dataframe thead th {\n",
       "        text-align: right;\n",
       "    }\n",
       "</style>\n",
       "<table border=\"1\" class=\"dataframe\">\n",
       "  <thead>\n",
       "    <tr style=\"text-align: right;\">\n",
       "      <th></th>\n",
       "      <th>Open</th>\n",
       "      <th>High</th>\n",
       "      <th>Low</th>\n",
       "      <th>Close</th>\n",
       "      <th>Adj Close</th>\n",
       "      <th>Volume</th>\n",
       "    </tr>\n",
       "    <tr>\n",
       "      <th>Date</th>\n",
       "      <th></th>\n",
       "      <th></th>\n",
       "      <th></th>\n",
       "      <th></th>\n",
       "      <th></th>\n",
       "      <th></th>\n",
       "    </tr>\n",
       "  </thead>\n",
       "  <tbody>\n",
       "    <tr>\n",
       "      <th>1990-01-02</th>\n",
       "      <td>23.68750</td>\n",
       "      <td>24.53125</td>\n",
       "      <td>23.62500</td>\n",
       "      <td>24.50000</td>\n",
       "      <td>6.590755</td>\n",
       "      <td>7041600</td>\n",
       "    </tr>\n",
       "    <tr>\n",
       "      <th>1990-01-03</th>\n",
       "      <td>24.68750</td>\n",
       "      <td>24.87500</td>\n",
       "      <td>24.59375</td>\n",
       "      <td>24.71875</td>\n",
       "      <td>6.649599</td>\n",
       "      <td>9464000</td>\n",
       "    </tr>\n",
       "    <tr>\n",
       "      <th>1990-01-04</th>\n",
       "      <td>24.75000</td>\n",
       "      <td>25.09375</td>\n",
       "      <td>24.71875</td>\n",
       "      <td>25.00000</td>\n",
       "      <td>6.725261</td>\n",
       "      <td>9674800</td>\n",
       "    </tr>\n",
       "    <tr>\n",
       "      <th>1990-01-05</th>\n",
       "      <td>24.96875</td>\n",
       "      <td>25.40625</td>\n",
       "      <td>24.87500</td>\n",
       "      <td>24.93750</td>\n",
       "      <td>6.708448</td>\n",
       "      <td>7570000</td>\n",
       "    </tr>\n",
       "    <tr>\n",
       "      <th>1990-01-08</th>\n",
       "      <td>24.81250</td>\n",
       "      <td>25.21875</td>\n",
       "      <td>24.81250</td>\n",
       "      <td>25.09375</td>\n",
       "      <td>6.750481</td>\n",
       "      <td>4625200</td>\n",
       "    </tr>\n",
       "  </tbody>\n",
       "</table>\n",
       "</div>"
      ],
      "text/plain": [
       "                Open      High       Low     Close  Adj Close   Volume\n",
       "Date                                                                  \n",
       "1990-01-02  23.68750  24.53125  23.62500  24.50000   6.590755  7041600\n",
       "1990-01-03  24.68750  24.87500  24.59375  24.71875   6.649599  9464000\n",
       "1990-01-04  24.75000  25.09375  24.71875  25.00000   6.725261  9674800\n",
       "1990-01-05  24.96875  25.40625  24.87500  24.93750   6.708448  7570000\n",
       "1990-01-08  24.81250  25.21875  24.81250  25.09375   6.750481  4625200"
      ]
     },
     "execution_count": 151,
     "metadata": {},
     "output_type": "execute_result"
    }
   ],
   "source": [
    "# read the data\n",
    "dataset = pd.read_csv('IBM.csv', index_col=\"Date\")\n",
    "dataset.head()"
   ]
  },
  {
   "cell_type": "code",
   "execution_count": 153,
   "metadata": {
    "scrolled": true
   },
   "outputs": [
    {
     "data": {
      "image/png": "[encoded data removed]",
      "text/plain": [
       "<Figure size 432x288 with 1 Axes>"
      ]
     },
     "metadata": {
      "needs_background": "light"
     },
     "output_type": "display_data"
    }
   ],
   "source": [
    "training_set = dataset[:'2017-12-29'].iloc[:,1:2].values\n",
    "test_set = dataset['2018-01-02':].iloc[:,1:2].values\n",
    "\n",
    "plt.plot(training_set, color='blue', label='Training set (1990-01-01 ~ 2017-12-29)')\n",
    "plt.plot(test_set, color='red', label='Test set (2018-01-01 ~ 2018-11-15)')\n",
    "plt.xlabel('Time')\n",
    "plt.ylabel('Price')\n",
    "plt.legend()\n",
    "plt.show()"
   ]
  },
  {
   "cell_type": "code",
   "execution_count": 154,
   "metadata": {},
   "outputs": [],
   "source": [
    "# scaling the training set\n",
    "sc = MinMaxScaler(feature_range=(0,1))\n",
    "training_set_scaled = sc.fit_transform(training_set)\n",
    "\n",
    "# create a data structure with 60 timesteps and 1 output, \n",
    "# so for each element of training set, there are 60 previous training set elements\n",
    "X_train = [] # feature\n",
    "y_train = [] # lable\n",
    "# training_set length is 7056, it is the total days between 1990-01-01 and 2017-12-29, also is the rows in the csv file\n",
    "for i in range(60, len(training_set)):\n",
    "    X_train.append(training_set_scaled[i-60:i,0])\n",
    "    y_train.append(training_set_scaled[i,0])\n",
    "X_train, y_train = np.array(X_train), np.array(y_train)\n",
    "\n",
    "X_train = np.reshape(X_train, (X_train.shape[0], X_train.shape[1], 1))"
   ]
  },
  {
   "cell_type": "code",
   "execution_count": 7,
   "metadata": {},
   "outputs": [
    {
     "name": "stdout",
     "output_type": "stream",
     "text": [
      "Epoch 1/50\n",
      "6996/6996 [==============================] - 176s 25ms/step - loss: 0.0117\n",
      "Epoch 2/50\n",
      "6996/6996 [==============================] - 174s 25ms/step - loss: 0.0051\n",
      "Epoch 3/50\n",
      "6996/6996 [==============================] - 174s 25ms/step - loss: 0.0036\n",
      "Epoch 4/50\n",
      "6996/6996 [==============================] - 175s 25ms/step - loss: 0.0030\n",
      "Epoch 5/50\n",
      "6996/6996 [==============================] - 174s 25ms/step - loss: 0.0025\n",
      "Epoch 6/50\n",
      "6996/6996 [==============================] - 175s 25ms/step - loss: 0.0024\n",
      "Epoch 7/50\n",
      "6996/6996 [==============================] - 176s 25ms/step - loss: 0.0021\n",
      "Epoch 8/50\n",
      "6996/6996 [==============================] - 175s 25ms/step - loss: 0.0020\n",
      "Epoch 9/50\n",
      "6996/6996 [==============================] - 175s 25ms/step - loss: 0.0019\n",
      "Epoch 10/50\n",
      "6996/6996 [==============================] - 176s 25ms/step - loss: 0.0018\n",
      "Epoch 11/50\n",
      "6996/6996 [==============================] - 175s 25ms/step - loss: 0.0018\n",
      "Epoch 12/50\n",
      "6996/6996 [==============================] - 177s 25ms/step - loss: 0.0017\n",
      "Epoch 13/50\n",
      "6996/6996 [==============================] - 177s 25ms/step - loss: 0.0016\n",
      "Epoch 14/50\n",
      "6996/6996 [==============================] - 177s 25ms/step - loss: 0.0015\n",
      "Epoch 15/50\n",
      "6996/6996 [==============================] - 177s 25ms/step - loss: 0.0015\n",
      "Epoch 16/50\n",
      "6996/6996 [==============================] - 176s 25ms/step - loss: 0.0015\n",
      "Epoch 17/50\n",
      "6996/6996 [==============================] - 175s 25ms/step - loss: 0.0013\n",
      "Epoch 18/50\n",
      "6996/6996 [==============================] - 176s 25ms/step - loss: 0.0014\n",
      "Epoch 19/50\n",
      "6996/6996 [==============================] - 175s 25ms/step - loss: 0.0013\n",
      "Epoch 20/50\n",
      "6996/6996 [==============================] - 176s 25ms/step - loss: 0.0012\n",
      "Epoch 21/50\n",
      "6996/6996 [==============================] - 175s 25ms/step - loss: 0.0012\n",
      "Epoch 22/50\n",
      "6996/6996 [==============================] - 176s 25ms/step - loss: 0.0012\n",
      "Epoch 23/50\n",
      "6996/6996 [==============================] - 174s 25ms/step - loss: 0.0012\n",
      "Epoch 24/50\n",
      "6996/6996 [==============================] - 174s 25ms/step - loss: 0.0011\n",
      "Epoch 25/50\n",
      "6996/6996 [==============================] - 173s 25ms/step - loss: 0.0011\n",
      "Epoch 26/50\n",
      "6996/6996 [==============================] - 174s 25ms/step - loss: 0.0011\n",
      "Epoch 27/50\n",
      "6996/6996 [==============================] - 174s 25ms/step - loss: 0.0011\n",
      "Epoch 28/50\n",
      "6996/6996 [==============================] - 175s 25ms/step - loss: 0.0011\n",
      "Epoch 29/50\n",
      "6996/6996 [==============================] - 174s 25ms/step - loss: 0.0011\n",
      "Epoch 30/50\n",
      "6996/6996 [==============================] - 173s 25ms/step - loss: 0.0011\n",
      "Epoch 31/50\n",
      "6996/6996 [==============================] - 173s 25ms/step - loss: 0.0010\n",
      "Epoch 32/50\n",
      "6996/6996 [==============================] - 175s 25ms/step - loss: 0.0010\n",
      "Epoch 33/50\n",
      "6996/6996 [==============================] - 174s 25ms/step - loss: 9.8260e-04\n",
      "Epoch 34/50\n",
      "6996/6996 [==============================] - 174s 25ms/step - loss: 0.0010\n",
      "Epoch 35/50\n",
      "6996/6996 [==============================] - 174s 25ms/step - loss: 9.7919e-04\n",
      "Epoch 36/50\n",
      "6996/6996 [==============================] - 174s 25ms/step - loss: 9.7385e-04\n",
      "Epoch 37/50\n",
      "6996/6996 [==============================] - 174s 25ms/step - loss: 9.0973e-04\n",
      "Epoch 38/50\n",
      "6996/6996 [==============================] - 174s 25ms/step - loss: 9.3422e-04\n",
      "Epoch 39/50\n",
      "6996/6996 [==============================] - 174s 25ms/step - loss: 9.4529e-04\n",
      "Epoch 40/50\n",
      "6996/6996 [==============================] - 173s 25ms/step - loss: 9.2329e-04\n",
      "Epoch 41/50\n",
      "6996/6996 [==============================] - 174s 25ms/step - loss: 8.9921e-04\n",
      "Epoch 42/50\n",
      "6996/6996 [==============================] - 174s 25ms/step - loss: 9.3004e-04\n",
      "Epoch 43/50\n",
      "6996/6996 [==============================] - 175s 25ms/step - loss: 9.5125e-04\n",
      "Epoch 44/50\n",
      "6996/6996 [==============================] - 174s 25ms/step - loss: 8.9237e-04\n",
      "Epoch 45/50\n",
      "6996/6996 [==============================] - 173s 25ms/step - loss: 9.1639e-04\n",
      "Epoch 46/50\n",
      "6996/6996 [==============================] - 174s 25ms/step - loss: 8.7539e-04\n",
      "Epoch 47/50\n",
      "6996/6996 [==============================] - 174s 25ms/step - loss: 8.8926e-04\n",
      "Epoch 48/50\n",
      "6996/6996 [==============================] - 174s 25ms/step - loss: 8.9541e-04\n",
      "Epoch 49/50\n",
      "6996/6996 [==============================] - 174s 25ms/step - loss: 8.6326e-04\n",
      "Epoch 50/50\n",
      "6996/6996 [==============================] - 174s 25ms/step - loss: 8.6900e-04\n"
     ]
    },
    {
     "data": {
      "text/plain": [
       "<keras.callbacks.History at 0x235f5b09be0>"
      ]
     },
     "execution_count": 7,
     "metadata": {},
     "output_type": "execute_result"
    }
   ],
   "source": [
    "# LSTM\n",
    "regressor = Sequential()\n",
    "# firt LSTM layer\n",
    "regressor.add(LSTM(units=50, return_sequences=True, input_shape=(X_train.shape[1],1)))\n",
    "regressor.add(Dropout(0.2))\n",
    "# second LSTM layer\n",
    "regressor.add(LSTM(units=50, return_sequences=True))\n",
    "regressor.add(Dropout(0.2))\n",
    "# third LSTM layer\n",
    "regressor.add(LSTM(units=50, return_sequences=True))\n",
    "regressor.add(Dropout(0.2))\n",
    "# fourth LSTM layer\n",
    "regressor.add(LSTM(units=50))\n",
    "regressor.add(Dropout(0.2))\n",
    "# output layer\n",
    "regressor.add(Dense(units=1))\n",
    "# compile the RNN\n",
    "regressor.compile(optimizer='rmsprop', loss='mean_squared_error')\n",
    "# fit to the training set\n",
    "regressor.fit(X_train, y_train, epochs=50, batch_size=32)"
   ]
  },
  {
   "cell_type": "code",
   "execution_count": 156,
   "metadata": {},
   "outputs": [],
   "source": [
    "# training set + test set, total is 7279, training_set is 7056, test_set is 222\n",
    "dataset_total = pd.concat((dataset['High'][:'2017-12-29'], dataset['High']['2018-01-02':]), axis=0)\n",
    "inputs = dataset_total[len(dataset_total) - len(test_set) - 60:].values\n",
    "inputs = inputs.reshape(-1,1)\n",
    "inputs = sc.transform(inputs)"
   ]
  },
  {
   "cell_type": "code",
   "execution_count": 157,
   "metadata": {},
   "outputs": [],
   "source": [
    "X_test = []\n",
    "for i in range(60, 282):\n",
    "    X_test.append(inputs[i-60:i,0])\n",
    "X_test = np.array(X_test)\n",
    "X_test = np.reshape(X_test, (X_test.shape[0], X_test.shape[1],1))\n",
    "LSTM_predicted_stock_price = regressor.predict(X_test)\n",
    "LSTM_predicted_stock_price = sc.inverse_transform(LSTM_predicted_stock_price)"
   ]
  },
  {
   "cell_type": "code",
   "execution_count": 158,
   "metadata": {},
   "outputs": [
    {
     "data": {
      "image/png": "[encoded data removed]",
      "text/plain": [
       "<Figure size 432x288 with 1 Axes>"
      ]
     },
     "metadata": {
      "needs_background": "light"
     },
     "output_type": "display_data"
    }
   ],
   "source": [
    "plt.plot(test_set, color='red', label='Real price (2018 and beyond)')\n",
    "plt.plot(LSTM_predicted_stock_price, color='blue', label='predicted price (2018 and beyond)')\n",
    "plt.title('LSTM')\n",
    "plt.xlabel('Time')\n",
    "plt.ylabel('Price')\n",
    "plt.legend()\n",
    "plt.show()"
   ]
  },
  {
   "cell_type": "code",
   "execution_count": 57,
   "metadata": {},
   "outputs": [
    {
     "name": "stdout",
     "output_type": "stream",
     "text": [
      "root mean squared error is 8.112332664725722.\n"
     ]
    }
   ],
   "source": [
    "LSTM_rmse = mean_squared_error(test_set, LSTM_predicted_stock_price)\n",
    "print (\"root mean squared error is {}.\".format(LSTM_rmse))\n"
   ]
  },
  {
   "cell_type": "code",
   "execution_count": 66,
   "metadata": {},
   "outputs": [
    {
     "name": "stdout",
     "output_type": "stream",
     "text": [
      "Epoch 1/50\n",
      "6996/6996 [==============================] - 149s 21ms/step - loss: 0.0077\n",
      "Epoch 2/50\n",
      "6996/6996 [==============================] - 145s 21ms/step - loss: 0.0027\n",
      "Epoch 3/50\n",
      "6996/6996 [==============================] - 145s 21ms/step - loss: 0.0022\n",
      "Epoch 4/50\n",
      "6996/6996 [==============================] - 146s 21ms/step - loss: 0.0020\n",
      "Epoch 5/50\n",
      "6996/6996 [==============================] - 145s 21ms/step - loss: 0.0018\n",
      "Epoch 6/50\n",
      "6996/6996 [==============================] - 145s 21ms/step - loss: 0.0016\n",
      "Epoch 7/50\n",
      "6996/6996 [==============================] - 144s 21ms/step - loss: 0.0015\n",
      "Epoch 8/50\n",
      "6996/6996 [==============================] - 144s 21ms/step - loss: 0.0014\n",
      "Epoch 9/50\n",
      "6996/6996 [==============================] - 143s 20ms/step - loss: 0.0013\n",
      "Epoch 10/50\n",
      "6996/6996 [==============================] - 144s 21ms/step - loss: 0.0014\n",
      "Epoch 11/50\n",
      "6996/6996 [==============================] - 144s 21ms/step - loss: 0.0012\n",
      "Epoch 12/50\n",
      "6996/6996 [==============================] - 143s 20ms/step - loss: 0.0012\n",
      "Epoch 13/50\n",
      "6996/6996 [==============================] - 144s 21ms/step - loss: 0.0012\n",
      "Epoch 14/50\n",
      "6996/6996 [==============================] - 143s 20ms/step - loss: 0.0011\n",
      "Epoch 15/50\n",
      "6996/6996 [==============================] - 143s 20ms/step - loss: 0.0010\n",
      "Epoch 16/50\n",
      "6996/6996 [==============================] - 144s 21ms/step - loss: 0.0010\n",
      "Epoch 17/50\n",
      "6996/6996 [==============================] - 143s 20ms/step - loss: 9.6243e-04\n",
      "Epoch 18/50\n",
      "6996/6996 [==============================] - 143s 20ms/step - loss: 9.7306e-04\n",
      "Epoch 19/50\n",
      "6996/6996 [==============================] - 143s 20ms/step - loss: 9.4741e-04\n",
      "Epoch 20/50\n",
      "6996/6996 [==============================] - 143s 20ms/step - loss: 0.0010\n",
      "Epoch 21/50\n",
      "6996/6996 [==============================] - 143s 20ms/step - loss: 8.5062e-04\n",
      "Epoch 22/50\n",
      "6996/6996 [==============================] - 142s 20ms/step - loss: 8.4502e-04\n",
      "Epoch 23/50\n",
      "6996/6996 [==============================] - 144s 21ms/step - loss: 8.8535e-04\n",
      "Epoch 24/50\n",
      "6996/6996 [==============================] - 144s 21ms/step - loss: 8.3320e-04\n",
      "Epoch 25/50\n",
      "6996/6996 [==============================] - 143s 20ms/step - loss: 7.7893e-04\n",
      "Epoch 26/50\n",
      "6996/6996 [==============================] - 143s 20ms/step - loss: 7.9890e-04\n",
      "Epoch 27/50\n",
      "6996/6996 [==============================] - 142s 20ms/step - loss: 8.8360e-04\n",
      "Epoch 28/50\n",
      "6996/6996 [==============================] - 142s 20ms/step - loss: 8.3609e-04\n",
      "Epoch 29/50\n",
      "6996/6996 [==============================] - 142s 20ms/step - loss: 7.7840e-04\n",
      "Epoch 30/50\n",
      "6996/6996 [==============================] - 142s 20ms/step - loss: 7.4029e-04\n",
      "Epoch 31/50\n",
      "6996/6996 [==============================] - 142s 20ms/step - loss: 7.6679e-04\n",
      "Epoch 32/50\n",
      "6996/6996 [==============================] - 142s 20ms/step - loss: 7.6122e-04\n",
      "Epoch 33/50\n",
      "6996/6996 [==============================] - 142s 20ms/step - loss: 7.3838e-04\n",
      "Epoch 34/50\n",
      "6996/6996 [==============================] - 142s 20ms/step - loss: 7.2545e-04\n",
      "Epoch 35/50\n",
      "6996/6996 [==============================] - 143s 20ms/step - loss: 7.4043e-04\n",
      "Epoch 36/50\n",
      "6996/6996 [==============================] - 142s 20ms/step - loss: 7.3730e-04\n",
      "Epoch 37/50\n",
      "6996/6996 [==============================] - 142s 20ms/step - loss: 7.5620e-04\n",
      "Epoch 38/50\n",
      "6996/6996 [==============================] - 142s 20ms/step - loss: 7.1554e-04\n",
      "Epoch 39/50\n",
      "6996/6996 [==============================] - 142s 20ms/step - loss: 6.7511e-04\n",
      "Epoch 40/50\n",
      "6996/6996 [==============================] - 142s 20ms/step - loss: 6.9186e-04\n",
      "Epoch 41/50\n",
      "6996/6996 [==============================] - 142s 20ms/step - loss: 6.7820e-04\n",
      "Epoch 42/50\n",
      "6996/6996 [==============================] - 142s 20ms/step - loss: 6.7559e-04\n",
      "Epoch 43/50\n",
      "6996/6996 [==============================] - 143s 20ms/step - loss: 6.9347e-04\n",
      "Epoch 44/50\n",
      "6996/6996 [==============================] - 143s 21ms/step - loss: 7.0090e-04\n",
      "Epoch 45/50\n",
      "6996/6996 [==============================] - 143s 20ms/step - loss: 6.8109e-04\n",
      "Epoch 46/50\n",
      "6996/6996 [==============================] - 145s 21ms/step - loss: 6.6090e-04\n",
      "Epoch 47/50\n",
      "6996/6996 [==============================] - 144s 21ms/step - loss: 6.9914e-04\n",
      "Epoch 48/50\n",
      "6996/6996 [==============================] - 143s 21ms/step - loss: 6.3582e-04\n",
      "Epoch 49/50\n",
      "6996/6996 [==============================] - 143s 20ms/step - loss: 6.6513e-04\n",
      "Epoch 50/50\n",
      "6996/6996 [==============================] - 144s 21ms/step - loss: 6.8971e-04\n",
      "Saved model to disk\n"
     ]
    }
   ],
   "source": [
    "regressorGRU = Sequential()\n",
    "regressorGRU.add(GRU(units=50, return_sequences=True, input_shape=(X_train.shape[1],1)))\n",
    "regressorGRU.add(Dropout(0.2))\n",
    "regressorGRU.add(GRU(units=50, return_sequences=True))\n",
    "regressorGRU.add(Dropout(0.2))\n",
    "regressorGRU.add(GRU(units=50, return_sequences=True))\n",
    "regressorGRU.add(Dropout(0.2))\n",
    "regressorGRU.add(GRU(units=50))\n",
    "regressorGRU.add(Dropout(0.2))\n",
    "regressorGRU.add(Dense(units=1))\n",
    "regressorGRU.compile(optimizer='adam', loss='mean_squared_error')\n",
    "regressorGRU.fit(X_train, y_train, epochs=50, batch_size=32)\n",
    "\n",
    "# serialize model to JSON\n",
    "model_json = regressorGRU.to_json()\n",
    "with open(\"model.json\", \"w\") as json_file:\n",
    "    json_file.write(model_json)\n",
    "# serialize weights to HDF5\n",
    "regressorGRU.save_weights(\"model.h5\")\n",
    "print(\"Saved model to disk\")\n"
   ]
  },
  {
   "cell_type": "code",
   "execution_count": 58,
   "metadata": {},
   "outputs": [],
   "source": [
    "X_test = []\n",
    "for i in range(60, 282):\n",
    "    X_test.append(inputs[i-60:i,0])\n",
    "X_test = np.array(X_test)\n",
    "X_test = np.reshape(X_test, (X_test.shape[0], X_test.shape[1],1))\n",
    "GRU_predicted_stock_price = regressorGRU.predict(X_test)\n",
    "GRU_predicted_stock_price = sc.inverse_transform(GRU_predicted_stock_price)"
   ]
  },
  {
   "cell_type": "code",
   "execution_count": 59,
   "metadata": {},
   "outputs": [
    {
     "data": {
      "image/png": "[encoded data removed]",
      "text/plain": [
       "<Figure size 432x288 with 1 Axes>"
      ]
     },
     "metadata": {
      "needs_background": "light"
     },
     "output_type": "display_data"
    }
   ],
   "source": [
    "plt.plot(test_set, color='red', label='Real price (2018 and beyond)')\n",
    "plt.plot(GRU_predicted_stock_price, color='blue', label='predicted price (2018 and beyond)')\n",
    "plt.title('GRU')\n",
    "plt.xlabel('Time')\n",
    "plt.ylabel('Price')\n",
    "plt.legend()\n",
    "plt.show()"
   ]
  },
  {
   "cell_type": "code",
   "execution_count": 60,
   "metadata": {},
   "outputs": [
    {
     "name": "stdout",
     "output_type": "stream",
     "text": [
      "root mean squared error is 2.6047938849174863.\n"
     ]
    }
   ],
   "source": [
    "GRU_rmse = math.sqrt(mean_squared_error(test_set, GRU_predicted_stock_price))\n",
    "print (\"root mean squared error is {}.\".format(GRU_rmse))"
   ]
  },
  {
   "cell_type": "code",
   "execution_count": 61,
   "metadata": {},
   "outputs": [
    {
     "name": "stdout",
     "output_type": "stream",
     "text": [
      "Epoch 1/50\n",
      "6996/6996 [==============================] - 308s 44ms/step - loss: 0.0113\n",
      "Epoch 2/50\n",
      "6996/6996 [==============================] - 298s 43ms/step - loss: 0.0042\n",
      "Epoch 3/50\n",
      "6996/6996 [==============================] - 300s 43ms/step - loss: 0.0031\n",
      "Epoch 4/50\n",
      "6996/6996 [==============================] - 299s 43ms/step - loss: 0.0025\n",
      "Epoch 5/50\n",
      "6996/6996 [==============================] - 300s 43ms/step - loss: 0.0022\n",
      "Epoch 6/50\n",
      "6996/6996 [==============================] - 298s 43ms/step - loss: 0.0019\n",
      "Epoch 7/50\n",
      "6996/6996 [==============================] - 298s 43ms/step - loss: 0.0018\n",
      "Epoch 8/50\n",
      "6996/6996 [==============================] - 299s 43ms/step - loss: 0.0017\n",
      "Epoch 9/50\n",
      "6996/6996 [==============================] - 298s 43ms/step - loss: 0.0016\n",
      "Epoch 10/50\n",
      "6996/6996 [==============================] - 298s 43ms/step - loss: 0.0014\n",
      "Epoch 11/50\n",
      "6996/6996 [==============================] - 298s 43ms/step - loss: 0.0015\n",
      "Epoch 12/50\n",
      "6996/6996 [==============================] - 299s 43ms/step - loss: 0.0013\n",
      "Epoch 13/50\n",
      "6996/6996 [==============================] - 298s 43ms/step - loss: 0.0013\n",
      "Epoch 14/50\n",
      "6996/6996 [==============================] - 297s 42ms/step - loss: 0.0012\n",
      "Epoch 15/50\n",
      "6996/6996 [==============================] - 298s 43ms/step - loss: 0.0012\n",
      "Epoch 16/50\n",
      "6996/6996 [==============================] - 296s 42ms/step - loss: 0.0011\n",
      "Epoch 17/50\n",
      "6996/6996 [==============================] - 297s 42ms/step - loss: 0.0011\n",
      "Epoch 18/50\n",
      "6996/6996 [==============================] - 298s 43ms/step - loss: 0.0011\n",
      "Epoch 19/50\n",
      "6996/6996 [==============================] - 298s 43ms/step - loss: 0.0011\n",
      "Epoch 20/50\n",
      "6996/6996 [==============================] - 298s 43ms/step - loss: 0.0010\n",
      "Epoch 21/50\n",
      "6996/6996 [==============================] - 298s 43ms/step - loss: 0.0010\n",
      "Epoch 22/50\n",
      "6996/6996 [==============================] - 298s 43ms/step - loss: 0.0010\n",
      "Epoch 23/50\n",
      "6996/6996 [==============================] - 298s 43ms/step - loss: 9.7744e-04\n",
      "Epoch 24/50\n",
      "6996/6996 [==============================] - 298s 43ms/step - loss: 9.5288e-04\n",
      "Epoch 25/50\n",
      "6996/6996 [==============================] - 296s 42ms/step - loss: 9.1282e-04\n",
      "Epoch 26/50\n",
      "6996/6996 [==============================] - 299s 43ms/step - loss: 9.0104e-04\n",
      "Epoch 27/50\n",
      "6996/6996 [==============================] - 300s 43ms/step - loss: 8.8749e-04\n",
      "Epoch 28/50\n",
      "6996/6996 [==============================] - 300s 43ms/step - loss: 8.7845e-04\n",
      "Epoch 29/50\n",
      "6996/6996 [==============================] - 300s 43ms/step - loss: 8.4445e-04\n",
      "Epoch 30/50\n",
      "6996/6996 [==============================] - 299s 43ms/step - loss: 8.3612e-04\n",
      "Epoch 31/50\n",
      "6996/6996 [==============================] - 300s 43ms/step - loss: 8.2496e-04\n",
      "Epoch 32/50\n",
      "6996/6996 [==============================] - 300s 43ms/step - loss: 8.4076e-04\n",
      "Epoch 33/50\n",
      "6996/6996 [==============================] - 301s 43ms/step - loss: 7.8567e-04\n",
      "Epoch 34/50\n",
      "6996/6996 [==============================] - 300s 43ms/step - loss: 7.5899e-04\n",
      "Epoch 35/50\n",
      "6996/6996 [==============================] - 299s 43ms/step - loss: 7.9055e-04\n",
      "Epoch 36/50\n",
      "6996/6996 [==============================] - 299s 43ms/step - loss: 7.9261e-04\n",
      "Epoch 37/50\n",
      "6996/6996 [==============================] - 297s 42ms/step - loss: 7.5468e-04\n",
      "Epoch 38/50\n",
      "6996/6996 [==============================] - 297s 42ms/step - loss: 7.6677e-04\n",
      "Epoch 39/50\n",
      "6996/6996 [==============================] - 297s 42ms/step - loss: 7.2126e-04\n",
      "Epoch 40/50\n",
      "6996/6996 [==============================] - 297s 43ms/step - loss: 7.2860e-04\n",
      "Epoch 41/50\n",
      "6996/6996 [==============================] - 297s 42ms/step - loss: 7.1082e-04\n",
      "Epoch 42/50\n",
      "6996/6996 [==============================] - 297s 42ms/step - loss: 6.9268e-04\n",
      "Epoch 43/50\n",
      "6996/6996 [==============================] - 298s 43ms/step - loss: 7.3422e-04\n",
      "Epoch 44/50\n",
      "6996/6996 [==============================] - 298s 43ms/step - loss: 6.8570e-04\n",
      "Epoch 45/50\n",
      "6996/6996 [==============================] - 298s 43ms/step - loss: 7.0077e-04\n",
      "Epoch 46/50\n",
      "6996/6996 [==============================] - 298s 43ms/step - loss: 7.0142e-04\n",
      "Epoch 47/50\n",
      "6996/6996 [==============================] - 297s 42ms/step - loss: 6.8727e-04\n",
      "Epoch 48/50\n",
      "6996/6996 [==============================] - 298s 43ms/step - loss: 6.7452e-04\n",
      "Epoch 49/50\n",
      "6996/6996 [==============================] - 297s 42ms/step - loss: 6.5881e-04\n",
      "Epoch 50/50\n",
      "6996/6996 [==============================] - 297s 42ms/step - loss: 6.7236e-04\n"
     ]
    },
    {
     "data": {
      "text/plain": [
       "<keras.callbacks.History at 0x23847a3b320>"
      ]
     },
     "execution_count": 61,
     "metadata": {},
     "output_type": "execute_result"
    }
   ],
   "source": [
    "# BiLSTM\n",
    "regressorBiLSTM = Sequential()\n",
    "# firt LSTM layer\n",
    "regressorBiLSTM.add(Bidirectional(LSTM(units=50, return_sequences=True), input_shape=(X_train.shape[1],1), merge_mode='concat'))\n",
    "regressorBiLSTM.add(Dropout(0.2))\n",
    "# second LSTM layer\n",
    "regressorBiLSTM.add(Bidirectional(LSTM(units=50, return_sequences=True)))\n",
    "regressorBiLSTM.add(Dropout(0.2))\n",
    "# third LSTM layer\n",
    "regressorBiLSTM.add(Bidirectional(LSTM(units=50, return_sequences=True)))\n",
    "regressorBiLSTM.add(Dropout(0.2))\n",
    "# fourth LSTM layer\n",
    "regressorBiLSTM.add(Bidirectional(LSTM(units=50)))\n",
    "regressorBiLSTM.add(Dropout(0.2))\n",
    "# output layer\n",
    "regressorBiLSTM.add(Dense(units=1))\n",
    "# compile the RNN\n",
    "regressorBiLSTM.compile(optimizer='rmsprop', loss='mean_squared_error')\n",
    "# fit to the training set\n",
    "regressorBiLSTM.fit(X_train, y_train, epochs=50, batch_size=32)"
   ]
  },
  {
   "cell_type": "code",
   "execution_count": 63,
   "metadata": {},
   "outputs": [],
   "source": [
    "X_test = []\n",
    "for i in range(60, 282):\n",
    "    X_test.append(inputs[i-60:i,0])\n",
    "X_test = np.array(X_test)\n",
    "X_test = np.reshape(X_test, (X_test.shape[0], X_test.shape[1],1))\n",
    "BiLSTM_predicted_stock_price = regressorBiLSTM.predict(X_test)\n",
    "BiLSTM_predicted_stock_price = sc.inverse_transform(BiLSTM_predicted_stock_price)"
   ]
  },
  {
   "cell_type": "code",
   "execution_count": 64,
   "metadata": {},
   "outputs": [
    {
     "data": {
      "image/png": "[encoded data removed]",
      "text/plain": [
       "<Figure size 432x288 with 1 Axes>"
      ]
     },
     "metadata": {
      "needs_background": "light"
     },
     "output_type": "display_data"
    }
   ],
   "source": [
    "plt.plot(test_set, color='red', label='Real price (2018 and beyond)')\n",
    "plt.plot(BiLSTM_predicted_stock_price, color='blue', label='predicted price (2018 and beyond)')\n",
    "plt.title('Bi LSTM')\n",
    "plt.xlabel('Time')\n",
    "plt.ylabel('Price')\n",
    "plt.legend()\n",
    "plt.show()"
   ]
  },
  {
   "cell_type": "code",
   "execution_count": 65,
   "metadata": {},
   "outputs": [
    {
     "name": "stdout",
     "output_type": "stream",
     "text": [
      "root mean squared error is 4.504284402842843.\n"
     ]
    }
   ],
   "source": [
    "BiLSTM_rmse = math.sqrt(mean_squared_error(test_set, BiLSTM_predicted_stock_price))\n",
    "print (\"root mean squared error is {}.\".format(BiLSTM_rmse))"
   ]
  }
 ],
 "metadata": {
  "kernelspec": {
   "display_name": "Python 3",
   "language": "python",
   "name": "python3"
  },
  "language_info": {
   "codemirror_mode": {
    "name": "ipython",
    "version": 3
   },
   "file_extension": ".py",
   "mimetype": "text/x-python",
   "name": "python",
   "nbconvert_exporter": "python",
   "pygments_lexer": "ipython3",
   "version": "3.6.7"
  }
 },
 "nbformat": 4,
 "nbformat_minor": 2
}
